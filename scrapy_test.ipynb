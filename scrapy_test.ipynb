{
 "cells": [
  {
   "cell_type": "code",
   "execution_count": 12,
   "metadata": {
    "collapsed": false
   },
   "outputs": [
    {
     "name": "stdout",
     "output_type": "stream",
     "text": [
      "Requirement already satisfied (use --upgrade to upgrade): flask in c:\\anaconda3\\lib\\site-packages\r\n"
     ]
    },
    {
     "name": "stderr",
     "output_type": "stream",
     "text": [
      "You are using pip version 8.1.1, however version 9.0.1 is available.\r\n",
      "You should consider upgrading via the 'python -m pip install --upgrade pip' command.\r\n"
     ]
    }
   ],
   "source": [
    "%%bash\n",
    "pip install flask"
   ]
  },
  {
   "cell_type": "code",
   "execution_count": 7,
   "metadata": {
    "collapsed": false
   },
   "outputs": [
    {
     "ename": "NameError",
     "evalue": "name 'app' is not defined",
     "output_type": "error",
     "traceback": [
      "\u001b[1;31m---------------------------------------------------------------------------\u001b[0m",
      "\u001b[1;31mNameError\u001b[0m                                 Traceback (most recent call last)",
      "\u001b[1;32m<ipython-input-7-8100c2a5dbf1>\u001b[0m in \u001b[0;36m<module>\u001b[1;34m()\u001b[0m\n\u001b[0;32m      1\u001b[0m \u001b[1;32mfrom\u001b[0m \u001b[0mflask\u001b[0m \u001b[1;32mimport\u001b[0m \u001b[0mFlask\u001b[0m\u001b[1;33m\u001b[0m\u001b[0m\n\u001b[1;32m----> 2\u001b[1;33m \u001b[1;33m@\u001b[0m\u001b[0mapp\u001b[0m\u001b[1;33m.\u001b[0m\u001b[0mroute\u001b[0m\u001b[1;33m(\u001b[0m\u001b[1;34m\"/\"\u001b[0m\u001b[1;33m)\u001b[0m\u001b[1;33m\u001b[0m\u001b[0m\n\u001b[0m\u001b[0;32m      3\u001b[0m \u001b[1;32mdef\u001b[0m \u001b[0mhello\u001b[0m\u001b[1;33m(\u001b[0m\u001b[1;33m)\u001b[0m\u001b[1;33m:\u001b[0m\u001b[1;33m\u001b[0m\u001b[0m\n\u001b[0;32m      4\u001b[0m     \u001b[1;32mreturn\u001b[0m \u001b[1;34m\"Hello World!\"\u001b[0m\u001b[1;33m\u001b[0m\u001b[0m\n",
      "\u001b[1;31mNameError\u001b[0m: name 'app' is not defined"
     ]
    }
   ],
   "source": [
    "from flask import Flask\n",
    "@app.route(\"/\")\n",
    "def hello():\n",
    "    return \"Hello World!\""
   ]
  },
  {
   "cell_type": "code",
   "execution_count": 9,
   "metadata": {
    "collapsed": false
   },
   "outputs": [
    {
     "name": "stdout",
     "output_type": "stream",
     "text": [
      "Requirement already satisfied (use --upgrade to upgrade): scrapy in c:\\anaconda3\\lib\\site-packages\r\n",
      "Requirement already satisfied (use --upgrade to upgrade): service-identity in c:\\anaconda3\\lib\\site-packages (from scrapy)\r\n",
      "Requirement already satisfied (use --upgrade to upgrade): lxml in c:\\anaconda3\\lib\\site-packages (from scrapy)\r\n",
      "Requirement already satisfied (use --upgrade to upgrade): w3lib>=1.15.0 in c:\\anaconda3\\lib\\site-packages (from scrapy)\r\n",
      "Requirement already satisfied (use --upgrade to upgrade): PyDispatcher>=2.0.5 in c:\\anaconda3\\lib\\site-packages (from scrapy)\r\n",
      "Requirement already satisfied (use --upgrade to upgrade): six>=1.5.2 in c:\\anaconda3\\lib\\site-packages (from scrapy)\r\n",
      "Requirement already satisfied (use --upgrade to upgrade): queuelib in c:\\anaconda3\\lib\\site-packages (from scrapy)\r\n",
      "Requirement already satisfied (use --upgrade to upgrade): pyOpenSSL in c:\\anaconda3\\lib\\site-packages (from scrapy)\r\n",
      "Requirement already satisfied (use --upgrade to upgrade): parsel>=1.1 in c:\\anaconda3\\lib\\site-packages (from scrapy)\r\n",
      "Requirement already satisfied (use --upgrade to upgrade): cssselect>=0.9 in c:\\anaconda3\\lib\\site-packages (from scrapy)\r\n",
      "Requirement already satisfied (use --upgrade to upgrade): Twisted>=13.1.0 in c:\\anaconda3\\lib\\site-packages (from scrapy)\r\n",
      "Requirement already satisfied (use --upgrade to upgrade): attrs in c:\\anaconda3\\lib\\site-packages (from service-identity->scrapy)\r\n",
      "Requirement already satisfied (use --upgrade to upgrade): pyasn1 in c:\\anaconda3\\lib\\site-packages (from service-identity->scrapy)\r\n",
      "Requirement already satisfied (use --upgrade to upgrade): pyasn1-modules in c:\\anaconda3\\lib\\site-packages (from service-identity->scrapy)\r\n",
      "Requirement already satisfied (use --upgrade to upgrade): cryptography>=0.7 in c:\\anaconda3\\lib\\site-packages (from pyOpenSSL->scrapy)\r\n",
      "Requirement already satisfied (use --upgrade to upgrade): constantly>=15.1 in c:\\anaconda3\\lib\\site-packages (from Twisted>=13.1.0->scrapy)\r\n",
      "Requirement already satisfied (use --upgrade to upgrade): zope.interface>=4.0.2 in c:\\anaconda3\\lib\\site-packages (from Twisted>=13.1.0->scrapy)\r\n",
      "Requirement already satisfied (use --upgrade to upgrade): incremental>=16.10.1 in c:\\anaconda3\\lib\\site-packages (from Twisted>=13.1.0->scrapy)\r\n",
      "Requirement already satisfied (use --upgrade to upgrade): Automat>=0.3.0 in c:\\anaconda3\\lib\\site-packages (from Twisted>=13.1.0->scrapy)\r\n",
      "Requirement already satisfied (use --upgrade to upgrade): idna>=2.0 in c:\\anaconda3\\lib\\site-packages (from cryptography>=0.7->pyOpenSSL->scrapy)\r\n",
      "Requirement already satisfied (use --upgrade to upgrade): setuptools>=11.3 in c:\\anaconda3\\lib\\site-packages\\setuptools-20.3-py3.5.egg (from cryptography>=0.7->pyOpenSSL->scrapy)\r\n",
      "Requirement already satisfied (use --upgrade to upgrade): cffi>=1.4.1 in c:\\anaconda3\\lib\\site-packages (from cryptography>=0.7->pyOpenSSL->scrapy)\r\n",
      "Requirement already satisfied (use --upgrade to upgrade): pycparser in c:\\anaconda3\\lib\\site-packages (from cffi>=1.4.1->cryptography>=0.7->pyOpenSSL->scrapy)\r\n"
     ]
    },
    {
     "name": "stderr",
     "output_type": "stream",
     "text": [
      "You are using pip version 8.1.1, however version 9.0.1 is available.\r\n",
      "You should consider upgrading via the 'python -m pip install --upgrade pip' command.\r\n"
     ]
    }
   ],
   "source": []
  },
  {
   "cell_type": "code",
   "execution_count": 13,
   "metadata": {
    "collapsed": true
   },
   "outputs": [],
   "source": [
    "import scrapy\n",
    "\n",
    "class QuotesSpider(scrapy.Spider):\n",
    "    name = \"quotes\"\n",
    "    start_urls = ['http://quotes.toscrape.com/tag/humor/', ]\n",
    "    \n",
    "    def parse(self, response):\n",
    "        for quote in response.css('div.quote'):\n",
    "            yield {\n",
    "                'text': quote.css('span.text::text').extract_first(),\n",
    "                'author': quote.xpath('span/small/text()').extract_first(),\n",
    "            }\n",
    "            \n",
    "        next_page = response.css('li.next a::attr(\"href\")').extract_first()\n",
    "        if next_page is not None:\n",
    "            next_page = response.urljoin(next_page)\n",
    "\n",
    "        yield scrapy.Request(next_page, callback=self.parse)"
   ]
  },
  {
   "cell_type": "code",
   "execution_count": 19,
   "metadata": {
    "collapsed": false
   },
   "outputs": [
    {
     "name": "stderr",
     "output_type": "stream",
     "text": [
      "2017-02-28 16:28:35 [scrapy.utils.log] INFO: Scrapy 1.3.2 started (bot: scrapybot)\r\n",
      "2017-02-28 16:28:35 [scrapy.utils.log] INFO: Overridden settings: {'FEED_URI': 'quotes.csv', 'FEED_FORMAT': 'csv'}\r\n",
      "2017-02-28 16:28:35 [scrapy.middleware] INFO: Enabled extensions:\r\n",
      "['scrapy.extensions.corestats.CoreStats',\r\n",
      " 'scrapy.extensions.telnet.TelnetConsole',\r\n",
      " 'scrapy.extensions.feedexport.FeedExporter',\r\n",
      " 'scrapy.extensions.logstats.LogStats']\r\n",
      "2017-02-28 16:28:36 [scrapy.middleware] INFO: Enabled downloader middlewares:\r\n",
      "['scrapy.downloadermiddlewares.httpauth.HttpAuthMiddleware',\r\n",
      " 'scrapy.downloadermiddlewares.downloadtimeout.DownloadTimeoutMiddleware',\r\n",
      " 'scrapy.downloadermiddlewares.defaultheaders.DefaultHeadersMiddleware',\r\n",
      " 'scrapy.downloadermiddlewares.useragent.UserAgentMiddleware',\r\n",
      " 'scrapy.downloadermiddlewares.retry.RetryMiddleware',\r\n",
      " 'scrapy.downloadermiddlewares.redirect.MetaRefreshMiddleware',\r\n",
      " 'scrapy.downloadermiddlewares.httpcompression.HttpCompressionMiddleware',\r\n",
      " 'scrapy.downloadermiddlewares.redirect.RedirectMiddleware',\r\n",
      " 'scrapy.downloadermiddlewares.cookies.CookiesMiddleware',\r\n",
      " 'scrapy.downloadermiddlewares.stats.DownloaderStats']\r\n",
      "2017-02-28 16:28:36 [scrapy.middleware] INFO: Enabled spider middlewares:\r\n",
      "['scrapy.spidermiddlewares.httperror.HttpErrorMiddleware',\r\n",
      " 'scrapy.spidermiddlewares.offsite.OffsiteMiddleware',\r\n",
      " 'scrapy.spidermiddlewares.referer.RefererMiddleware',\r\n",
      " 'scrapy.spidermiddlewares.urllength.UrlLengthMiddleware',\r\n",
      " 'scrapy.spidermiddlewares.depth.DepthMiddleware']\r\n",
      "2017-02-28 16:28:36 [scrapy.middleware] INFO: Enabled item pipelines:\r\n",
      "[]\r\n",
      "2017-02-28 16:28:36 [scrapy.core.engine] INFO: Spider opened\r\n",
      "2017-02-28 16:28:36 [scrapy.extensions.logstats] INFO: Crawled 0 pages (at 0 pages/min), scraped 0 items (at 0 items/min)\r\n",
      "2017-02-28 16:28:36 [scrapy.extensions.telnet] DEBUG: Telnet console listening on 127.0.0.1:6023\r\n",
      "2017-02-28 16:28:36 [scrapy.core.engine] DEBUG: Crawled (200) <GET http://quotes.toscrape.com/tag/humor/> (referer: None)\r\n",
      "2017-02-28 16:28:36 [scrapy.core.scraper] DEBUG: Scraped from <200 http://quotes.toscrape.com/tag/humor/>\r",
      "\r\n",
      "{'text': '“The person, be it gentleman or lady, who has not pleasure in a good novel, must be intolerably stupid.”', 'author': 'Jane Austen'}\r\n",
      "2017-02-28 16:28:36 [scrapy.core.scraper] DEBUG: Scraped from <200 http://quotes.toscrape.com/tag/humor/>\r",
      "\r\n",
      "{'text': '“A day without sunshine is like, you know, night.”', 'author': 'Steve Martin'}\r\n",
      "2017-02-28 16:28:36 [scrapy.core.scraper] DEBUG: Scraped from <200 http://quotes.toscrape.com/tag/humor/>\r",
      "\r\n",
      "{'text': '“Anyone who thinks sitting in church can make you a Christian must also think that sitting in a garage can make you a car.”', 'author': 'Garrison Keillor'}\r\n",
      "2017-02-28 16:28:36 [scrapy.core.scraper] DEBUG: Scraped from <200 http://quotes.toscrape.com/tag/humor/>\r",
      "\r\n",
      "{'text': '“Beauty is in the eye of the beholder and it may be necessary from time to time to give a stupid or misinformed beholder a black eye.”', 'author': 'Jim Henson'}\r\n",
      "2017-02-28 16:28:36 [scrapy.core.scraper] DEBUG: Scraped from <200 http://quotes.toscrape.com/tag/humor/>\r",
      "\r\n",
      "{'text': \"“All you need is love. But a little chocolate now and then doesn't hurt.”\", 'author': 'Charles M. Schulz'}\r\n",
      "2017-02-28 16:28:36 [scrapy.core.scraper] DEBUG: Scraped from <200 http://quotes.toscrape.com/tag/humor/>\r",
      "\r\n",
      "{'text': \"“Remember, we're madly in love, so it's all right to kiss me anytime you feel like it.”\", 'author': 'Suzanne Collins'}\r\n",
      "2017-02-28 16:28:36 [scrapy.core.scraper] DEBUG: Scraped from <200 http://quotes.toscrape.com/tag/humor/>\r",
      "\r\n",
      "{'text': '“Some people never go crazy. What truly horrible lives they must lead.”', 'author': 'Charles Bukowski'}\r\n",
      "2017-02-28 16:28:36 [scrapy.core.scraper] DEBUG: Scraped from <200 http://quotes.toscrape.com/tag/humor/>\r",
      "\r\n",
      "{'text': '“The trouble with having an open mind, of course, is that people will insist on coming along and trying to put things in it.”', 'author': 'Terry Pratchett'}\r\n",
      "2017-02-28 16:28:36 [scrapy.core.scraper] DEBUG: Scraped from <200 http://quotes.toscrape.com/tag/humor/>\r",
      "\r\n",
      "{'text': '“Think left and think right and think low and think high. Oh, the thinks you can think up if only you try!”', 'author': 'Dr. Seuss'}\r\n",
      "2017-02-28 16:28:36 [scrapy.core.scraper] DEBUG: Scraped from <200 http://quotes.toscrape.com/tag/humor/>\r",
      "\r\n",
      "{'text': '“The reason I talk to myself is because I’m the only one whose answers I accept.”', 'author': 'George Carlin'}\r\n",
      "2017-02-28 16:28:36 [scrapy.core.engine] DEBUG: Crawled (200) <GET http://quotes.toscrape.com/tag/humor/page/2/> (referer: http://quotes.toscrape.com/tag/humor/)\r\n",
      "2017-02-28 16:28:36 [scrapy.core.scraper] DEBUG: Scraped from <200 http://quotes.toscrape.com/tag/humor/page/2/>\r",
      "\r\n",
      "{'text': '“I am free of all prejudice. I hate everyone equally. ”', 'author': 'W.C. Fields'}\r\n",
      "2017-02-28 16:28:36 [scrapy.core.scraper] DEBUG: Scraped from <200 http://quotes.toscrape.com/tag/humor/page/2/>\r",
      "\r\n",
      "{'text': \"“A lady's imagination is very rapid; it jumps from admiration to love, from love to matrimony in a moment.”\", 'author': 'Jane Austen'}\r\n",
      "2017-02-28 16:28:36 [scrapy.core.engine] INFO: Closing spider (finished)\r\n",
      "2017-02-28 16:28:36 [scrapy.extensions.feedexport] INFO: Stored csv feed (12 items) in: quotes.csv\r\n",
      "2017-02-28 16:28:36 [scrapy.statscollectors] INFO: Dumping Scrapy stats:\r\n",
      "{'downloader/request_bytes': 509,\r\n",
      " 'downloader/request_count': 2,\r\n",
      " 'downloader/request_method_count/GET': 2,\r\n",
      " 'downloader/response_bytes': 3726,\r\n",
      " 'downloader/response_count': 2,\r\n",
      " 'downloader/response_status_count/200': 2,\r\n",
      " 'finish_reason': 'finished',\r\n",
      " 'finish_time': datetime.datetime(2017, 2, 28, 16, 28, 36, 442005),\r\n",
      " 'item_scraped_count': 12,\r\n",
      " 'log_count/DEBUG': 15,\r\n",
      " 'log_count/INFO': 8,\r\n",
      " 'request_depth_max': 1,\r\n",
      " 'response_received_count': 2,\r\n",
      " 'scheduler/dequeued': 2,\r\n",
      " 'scheduler/dequeued/memory': 2,\r\n",
      " 'scheduler/enqueued': 2,\r\n",
      " 'scheduler/enqueued/memory': 2,\r\n",
      " 'start_time': datetime.datetime(2017, 2, 28, 16, 28, 36, 59966)}\r\n",
      "2017-02-28 16:28:36 [scrapy.core.engine] INFO: Spider closed (finished)\r\n"
     ]
    }
   ],
   "source": [
    "%%bash\n",
    "scrapy runspider quotespider.py -o quotes.csv"
   ]
  },
  {
   "cell_type": "code",
   "execution_count": 26,
   "metadata": {
    "collapsed": false
   },
   "outputs": [
    {
     "name": "stderr",
     "output_type": "stream",
     "text": [
      "2017-02-28 17:46:35 [scrapy.utils.log] INFO: Scrapy 1.3.2 started (bot: scrapybot)\r\n",
      "2017-02-28 17:46:35 [scrapy.utils.log] INFO: Overridden settings: {'FEED_FORMAT': 'json', 'FEED_URI': 'weather.json'}\r\n",
      "2017-02-28 17:46:35 [scrapy.middleware] INFO: Enabled extensions:\r\n",
      "['scrapy.extensions.telnet.TelnetConsole',\r\n",
      " 'scrapy.extensions.feedexport.FeedExporter',\r\n",
      " 'scrapy.extensions.logstats.LogStats',\r\n",
      " 'scrapy.extensions.corestats.CoreStats']\r\n",
      "2017-02-28 17:46:35 [scrapy.middleware] INFO: Enabled downloader middlewares:\r\n",
      "['scrapy.downloadermiddlewares.httpauth.HttpAuthMiddleware',\r\n",
      " 'scrapy.downloadermiddlewares.downloadtimeout.DownloadTimeoutMiddleware',\r\n",
      " 'scrapy.downloadermiddlewares.defaultheaders.DefaultHeadersMiddleware',\r\n",
      " 'scrapy.downloadermiddlewares.useragent.UserAgentMiddleware',\r\n",
      " 'scrapy.downloadermiddlewares.retry.RetryMiddleware',\r\n",
      " 'scrapy.downloadermiddlewares.redirect.MetaRefreshMiddleware',\r\n",
      " 'scrapy.downloadermiddlewares.httpcompression.HttpCompressionMiddleware',\r\n",
      " 'scrapy.downloadermiddlewares.redirect.RedirectMiddleware',\r\n",
      " 'scrapy.downloadermiddlewares.cookies.CookiesMiddleware',\r\n",
      " 'scrapy.downloadermiddlewares.stats.DownloaderStats']\r\n",
      "2017-02-28 17:46:35 [scrapy.middleware] INFO: Enabled spider middlewares:\r\n",
      "['scrapy.spidermiddlewares.httperror.HttpErrorMiddleware',\r\n",
      " 'scrapy.spidermiddlewares.offsite.OffsiteMiddleware',\r\n",
      " 'scrapy.spidermiddlewares.referer.RefererMiddleware',\r\n",
      " 'scrapy.spidermiddlewares.urllength.UrlLengthMiddleware',\r\n",
      " 'scrapy.spidermiddlewares.depth.DepthMiddleware']\r\n",
      "2017-02-28 17:46:35 [scrapy.middleware] INFO: Enabled item pipelines:\r\n",
      "[]\r\n",
      "2017-02-28 17:46:35 [scrapy.core.engine] INFO: Spider opened\r\n",
      "2017-02-28 17:46:35 [scrapy.extensions.logstats] INFO: Crawled 0 pages (at 0 pages/min), scraped 0 items (at 0 items/min)\r\n",
      "2017-02-28 17:46:35 [scrapy.extensions.telnet] DEBUG: Telnet console listening on 127.0.0.1:6023\r\n",
      "2017-02-28 17:46:35 [scrapy.core.engine] DEBUG: Crawled (200) <GET http://www.met.ie/forecasts/> (referer: None)\r\n",
      "2017-02-28 17:46:35 [scrapy.core.scraper] DEBUG: Scraped from <200 http://www.met.ie/forecasts/>\r",
      "\r\n",
      "{'when': ' Today', 'forecast': '<p>Cold and blustery with scattered heavy rain or hail showers this evening and winds gradually easing.</p>'}\r\n",
      "2017-02-28 17:46:35 [scrapy.core.engine] INFO: Closing spider (finished)\r\n",
      "2017-02-28 17:46:35 [scrapy.extensions.feedexport] INFO: Stored json feed (1 items) in: weather.json\r\n",
      "2017-02-28 17:46:35 [scrapy.statscollectors] INFO: Dumping Scrapy stats:\r\n",
      "{'downloader/request_bytes': 218,\r\n",
      " 'downloader/request_count': 1,\r\n",
      " 'downloader/request_method_count/GET': 1,\r\n",
      " 'downloader/response_bytes': 11284,\r\n",
      " 'downloader/response_count': 1,\r\n",
      " 'downloader/response_status_count/200': 1,\r\n",
      " 'finish_reason': 'finished',\r\n",
      " 'finish_time': datetime.datetime(2017, 2, 28, 17, 46, 35, 713610),\r\n",
      " 'item_scraped_count': 1,\r\n",
      " 'log_count/DEBUG': 3,\r\n",
      " 'log_count/INFO': 8,\r\n",
      " 'response_received_count': 1,\r\n",
      " 'scheduler/dequeued': 1,\r\n",
      " 'scheduler/dequeued/memory': 1,\r\n",
      " 'scheduler/enqueued': 1,\r\n",
      " 'scheduler/enqueued/memory': 1,\r\n",
      " 'start_time': datetime.datetime(2017, 2, 28, 17, 46, 35, 542010)}\r\n",
      "2017-02-28 17:46:35 [scrapy.core.engine] INFO: Spider closed (finished)\r\n"
     ]
    }
   ],
   "source": [
    "%%bash\n",
    "scrapy runspider quotespider.py -o weather.json"
   ]
  },
  {
   "cell_type": "code",
   "execution_count": 29,
   "metadata": {
    "collapsed": false
   },
   "outputs": [
    {
     "name": "stderr",
     "output_type": "stream",
     "text": [
      "2017-02-28 17:49:53 [scrapy.utils.log] INFO: Scrapy 1.3.2 started (bot: scrapybot)\r\n",
      "2017-02-28 17:49:53 [scrapy.utils.log] INFO: Overridden settings: {'FEED_URI': 'weather.json', 'FEED_FORMAT': 'json'}\r\n",
      "2017-02-28 17:49:54 [scrapy.middleware] INFO: Enabled extensions:\r\n",
      "['scrapy.extensions.feedexport.FeedExporter',\r\n",
      " 'scrapy.extensions.telnet.TelnetConsole',\r\n",
      " 'scrapy.extensions.corestats.CoreStats',\r\n",
      " 'scrapy.extensions.logstats.LogStats']\r\n",
      "2017-02-28 17:49:54 [scrapy.middleware] INFO: Enabled downloader middlewares:\r\n",
      "['scrapy.downloadermiddlewares.httpauth.HttpAuthMiddleware',\r\n",
      " 'scrapy.downloadermiddlewares.downloadtimeout.DownloadTimeoutMiddleware',\r\n",
      " 'scrapy.downloadermiddlewares.defaultheaders.DefaultHeadersMiddleware',\r\n",
      " 'scrapy.downloadermiddlewares.useragent.UserAgentMiddleware',\r\n",
      " 'scrapy.downloadermiddlewares.retry.RetryMiddleware',\r\n",
      " 'scrapy.downloadermiddlewares.redirect.MetaRefreshMiddleware',\r\n",
      " 'scrapy.downloadermiddlewares.httpcompression.HttpCompressionMiddleware',\r\n",
      " 'scrapy.downloadermiddlewares.redirect.RedirectMiddleware',\r\n",
      " 'scrapy.downloadermiddlewares.cookies.CookiesMiddleware',\r\n",
      " 'scrapy.downloadermiddlewares.stats.DownloaderStats']\r\n",
      "2017-02-28 17:49:54 [scrapy.middleware] INFO: Enabled spider middlewares:\r\n",
      "['scrapy.spidermiddlewares.httperror.HttpErrorMiddleware',\r\n",
      " 'scrapy.spidermiddlewares.offsite.OffsiteMiddleware',\r\n",
      " 'scrapy.spidermiddlewares.referer.RefererMiddleware',\r\n",
      " 'scrapy.spidermiddlewares.urllength.UrlLengthMiddleware',\r\n",
      " 'scrapy.spidermiddlewares.depth.DepthMiddleware']\r\n",
      "2017-02-28 17:49:54 [scrapy.middleware] INFO: Enabled item pipelines:\r\n",
      "[]\r\n",
      "2017-02-28 17:49:54 [scrapy.core.engine] INFO: Spider opened\r\n",
      "2017-02-28 17:49:54 [scrapy.extensions.logstats] INFO: Crawled 0 pages (at 0 pages/min), scraped 0 items (at 0 items/min)\r\n",
      "2017-02-28 17:49:54 [scrapy.extensions.telnet] DEBUG: Telnet console listening on 127.0.0.1:6023\r\n",
      "2017-02-28 17:49:54 [scrapy.core.engine] DEBUG: Crawled (200) <GET http://www.met.ie/forecasts/> (referer: None)\r\n",
      "2017-02-28 17:49:54 [scrapy.core.scraper] DEBUG: Scraped from <200 http://www.met.ie/forecasts/>\r",
      "\r\n",
      "{'when': ' Today', 'forecast': '<p>Cold and blustery with scattered heavy rain or hail showers this evening and winds gradually easing.</p>'}\r\n",
      "2017-02-28 17:49:54 [scrapy.core.engine] INFO: Closing spider (finished)\r\n",
      "2017-02-28 17:49:54 [scrapy.extensions.feedexport] INFO: Stored json feed (1 items) in: weather.json\r\n",
      "2017-02-28 17:49:54 [scrapy.statscollectors] INFO: Dumping Scrapy stats:\r\n",
      "{'downloader/request_bytes': 218,\r\n",
      " 'downloader/request_count': 1,\r\n",
      " 'downloader/request_method_count/GET': 1,\r\n",
      " 'downloader/response_bytes': 11284,\r\n",
      " 'downloader/response_count': 1,\r\n",
      " 'downloader/response_status_count/200': 1,\r\n",
      " 'finish_reason': 'finished',\r\n",
      " 'finish_time': datetime.datetime(2017, 2, 28, 17, 49, 54, 506610),\r\n",
      " 'item_scraped_count': 1,\r\n",
      " 'log_count/DEBUG': 3,\r\n",
      " 'log_count/INFO': 8,\r\n",
      " 'response_received_count': 1,\r\n",
      " 'scheduler/dequeued': 1,\r\n",
      " 'scheduler/dequeued/memory': 1,\r\n",
      " 'scheduler/enqueued': 1,\r\n",
      " 'scheduler/enqueued/memory': 1,\r\n",
      " 'start_time': datetime.datetime(2017, 2, 28, 17, 49, 54, 335010)}\r\n",
      "2017-02-28 17:49:54 [scrapy.core.engine] INFO: Spider closed (finished)\r\n"
     ]
    }
   ],
   "source": [
    "%%bash\n",
    "scrapy runspider quotespider.py -o weather.json"
   ]
  },
  {
   "cell_type": "code",
   "execution_count": 32,
   "metadata": {
    "collapsed": false
   },
   "outputs": [
    {
     "name": "stderr",
     "output_type": "stream",
     "text": [
      "2017-02-28 17:55:03 [scrapy.utils.log] INFO: Scrapy 1.3.2 started (bot: scrapybot)\r\n",
      "2017-02-28 17:55:03 [scrapy.utils.log] INFO: Overridden settings: {'FEED_FORMAT': 'json', 'FEED_URI': 'weather.json'}\r\n",
      "2017-02-28 17:55:03 [scrapy.middleware] INFO: Enabled extensions:\r\n",
      "['scrapy.extensions.logstats.LogStats',\r\n",
      " 'scrapy.extensions.corestats.CoreStats',\r\n",
      " 'scrapy.extensions.telnet.TelnetConsole',\r\n",
      " 'scrapy.extensions.feedexport.FeedExporter']\r\n",
      "2017-02-28 17:55:03 [scrapy.middleware] INFO: Enabled downloader middlewares:\r\n",
      "['scrapy.downloadermiddlewares.httpauth.HttpAuthMiddleware',\r\n",
      " 'scrapy.downloadermiddlewares.downloadtimeout.DownloadTimeoutMiddleware',\r\n",
      " 'scrapy.downloadermiddlewares.defaultheaders.DefaultHeadersMiddleware',\r\n",
      " 'scrapy.downloadermiddlewares.useragent.UserAgentMiddleware',\r\n",
      " 'scrapy.downloadermiddlewares.retry.RetryMiddleware',\r\n",
      " 'scrapy.downloadermiddlewares.redirect.MetaRefreshMiddleware',\r\n",
      " 'scrapy.downloadermiddlewares.httpcompression.HttpCompressionMiddleware',\r\n",
      " 'scrapy.downloadermiddlewares.redirect.RedirectMiddleware',\r\n",
      " 'scrapy.downloadermiddlewares.cookies.CookiesMiddleware',\r\n",
      " 'scrapy.downloadermiddlewares.stats.DownloaderStats']\r\n",
      "2017-02-28 17:55:03 [scrapy.middleware] INFO: Enabled spider middlewares:\r\n",
      "['scrapy.spidermiddlewares.httperror.HttpErrorMiddleware',\r\n",
      " 'scrapy.spidermiddlewares.offsite.OffsiteMiddleware',\r\n",
      " 'scrapy.spidermiddlewares.referer.RefererMiddleware',\r\n",
      " 'scrapy.spidermiddlewares.urllength.UrlLengthMiddleware',\r\n",
      " 'scrapy.spidermiddlewares.depth.DepthMiddleware']\r\n",
      "2017-02-28 17:55:03 [scrapy.middleware] INFO: Enabled item pipelines:\r\n",
      "[]\r\n",
      "2017-02-28 17:55:03 [scrapy.core.engine] INFO: Spider opened\r\n",
      "2017-02-28 17:55:03 [scrapy.extensions.logstats] INFO: Crawled 0 pages (at 0 pages/min), scraped 0 items (at 0 items/min)\r\n",
      "2017-02-28 17:55:03 [scrapy.extensions.telnet] DEBUG: Telnet console listening on 127.0.0.1:6023\r\n",
      "2017-02-28 17:55:03 [scrapy.core.engine] DEBUG: Crawled (200) <GET http://www.met.ie/forecasts/> (referer: None)\r\n",
      "2017-02-28 17:55:04 [scrapy.core.scraper] DEBUG: Scraped from <200 http://www.met.ie/forecasts/>\r",
      "\r\n",
      "{'forecast': 'Cold and blustery with scattered heavy rain or hail showers this evening and winds gradually easing.', 'when': ' Today'}\r\n",
      "2017-02-28 17:55:04 [scrapy.core.engine] INFO: Closing spider (finished)\r\n",
      "2017-02-28 17:55:04 [scrapy.extensions.feedexport] INFO: Stored json feed (1 items) in: weather.json\r\n",
      "2017-02-28 17:55:04 [scrapy.statscollectors] INFO: Dumping Scrapy stats:\r\n",
      "{'downloader/request_bytes': 218,\r\n",
      " 'downloader/request_count': 1,\r\n",
      " 'downloader/request_method_count/GET': 1,\r\n",
      " 'downloader/response_bytes': 11284,\r\n",
      " 'downloader/response_count': 1,\r\n",
      " 'downloader/response_status_count/200': 1,\r\n",
      " 'finish_reason': 'finished',\r\n",
      " 'finish_time': datetime.datetime(2017, 2, 28, 17, 55, 4, 86410),\r\n",
      " 'item_scraped_count': 1,\r\n",
      " 'log_count/DEBUG': 3,\r\n",
      " 'log_count/INFO': 8,\r\n",
      " 'response_received_count': 1,\r\n",
      " 'scheduler/dequeued': 1,\r\n",
      " 'scheduler/dequeued/memory': 1,\r\n",
      " 'scheduler/enqueued': 1,\r\n",
      " 'scheduler/enqueued/memory': 1,\r\n",
      " 'start_time': datetime.datetime(2017, 2, 28, 17, 55, 3, 914810)}\r\n",
      "2017-02-28 17:55:04 [scrapy.core.engine] INFO: Spider closed (finished)\r\n"
     ]
    }
   ],
   "source": [
    "%%bash\n",
    "scrapy runspider quotespider.py -o weather.json"
   ]
  },
  {
   "cell_type": "code",
   "execution_count": null,
   "metadata": {
    "collapsed": true
   },
   "outputs": [],
   "source": []
  }
 ],
 "metadata": {
  "kernelspec": {
   "display_name": "Python 3",
   "language": "python",
   "name": "python3"
  },
  "language_info": {
   "codemirror_mode": {
    "name": "ipython",
    "version": 3
   },
   "file_extension": ".py",
   "mimetype": "text/x-python",
   "name": "python",
   "nbconvert_exporter": "python",
   "pygments_lexer": "ipython3",
   "version": "3.5.1"
  }
 },
 "nbformat": 4,
 "nbformat_minor": 0
}
